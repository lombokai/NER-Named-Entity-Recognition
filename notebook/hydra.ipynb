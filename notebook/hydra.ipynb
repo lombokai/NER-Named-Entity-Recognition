{
 "cells": [
  {
   "cell_type": "code",
   "execution_count": 1,
   "metadata": {},
   "outputs": [],
   "source": [
    "import sys\n",
    "sys.path.append(\"src\")"
   ]
  },
  {
   "cell_type": "code",
   "execution_count": 2,
   "metadata": {},
   "outputs": [],
   "source": [
    "import hydra\n",
    "import torch\n",
    "\n",
    "from torch.optim import Adam\n",
    "from omegaconf import DictConfig, OmegaConf\n",
    "from hydra.utils import instantiate\n",
    "from hydra import compose, initialize"
   ]
  },
  {
   "cell_type": "code",
   "execution_count": 3,
   "metadata": {},
   "outputs": [],
   "source": [
    "with initialize(version_base=\"1.3\", config_path=\"configs\"):\n",
    "    cfg = compose(config_name=\"train\")"
   ]
  },
  {
   "cell_type": "code",
   "execution_count": 4,
   "metadata": {},
   "outputs": [
    {
     "name": "stdout",
     "output_type": "stream",
     "text": [
      "{'task_name': 'train', 'callbacks': {'checkpoint': {'_target_': 'lightning.pytorch.callbacks.ModelCheckpoint', 'monitor': 'val_loss', 'dirpath': 'logs/${task_name}/runs/${now:%Y-%m-%d}/${now:%H-%M-%S}/checkpoint/', 'filename': 'ner-{epoch:02d}-{val_loss:.2f}', 'save_top_k': 1, 'mode': 'min'}, 'early_stop': {'_target_': 'lightning.pytorch.callbacks.early_stopping.EarlyStopping', 'monitor': 'val_acc', 'mode': 'max', 'verbose': True, 'patience': 5}}, 'data': {'_target_': 'ner.data.ConllDataModule', 'data_path': 'data/conll', 'max_len': 100}, 'logger': {'mlflow_logger': {'_target_': 'lightning.pytorch.loggers.mlflow.MLFlowLogger', 'tracking_uri': 'logs/mlflow/', 'experiment_name': 'ner', 'log_model': True}, 'tensorboard_logger': {'_target_': 'lightning.pytorch.loggers.tensorboard.TensorBoardLogger', 'save_dir': 'logs/tensorboard/', 'name': 'ner'}}, 'loss': {'_target_': 'torch.nn.CrossEntropyLoss', 'ignore_index': 1}, 'metrics': {'_target_': 'torchmetrics.Accuracy', 'task': 'multiclass', 'num_classes': 9}, 'model': {'_target_': 'ner.model.GruNER', 'vocab_size': 26776, 'num_classes': 9}, 'module': {'_target_': 'ner.model.GruModule', 'model': '${model}', 'loss_fn': '${loss}', 'metrics': '${metrics}', 'optim': '${optimizer}'}, 'optimizer': {'_target_': 'torch.optim.Adam', 'lr': 0.001, 'weight_decay': 0.0005}, 'trainer': {'_target_': 'lightning.Trainer', 'max_epochs': 1, 'accelerator': 'cuda'}}\n"
     ]
    }
   ],
   "source": [
    "print(cfg)"
   ]
  },
  {
   "cell_type": "code",
   "execution_count": 5,
   "metadata": {},
   "outputs": [],
   "source": [
    "from ner.model import GruModule"
   ]
  },
  {
   "cell_type": "code",
   "execution_count": 6,
   "metadata": {},
   "outputs": [],
   "source": [
    "module = GruModule(\n",
    "    model = cfg.model,\n",
    "    loss_fn = cfg.loss,\n",
    "    metrics = cfg.metrics,\n",
    "    optim = cfg.optimizer\n",
    ")"
   ]
  },
  {
   "cell_type": "code",
   "execution_count": 7,
   "metadata": {},
   "outputs": [
    {
     "data": {
      "text/plain": [
       "GruNER(\n",
       "  (emb): Embedding(26776, 256)\n",
       "  (gru): GRU(256, 128, num_layers=2, batch_first=True, bidirectional=True)\n",
       "  (out_layer): Linear(in_features=128, out_features=9, bias=True)\n",
       ")"
      ]
     },
     "execution_count": 7,
     "metadata": {},
     "output_type": "execute_result"
    }
   ],
   "source": [
    "module.model"
   ]
  },
  {
   "cell_type": "code",
   "execution_count": 8,
   "metadata": {},
   "outputs": [
    {
     "data": {
      "text/plain": [
       "GruModule(\n",
       "  (model): GruNER(\n",
       "    (emb): Embedding(26776, 256)\n",
       "    (gru): GRU(256, 128, num_layers=2, batch_first=True, bidirectional=True)\n",
       "    (out_layer): Linear(in_features=128, out_features=9, bias=True)\n",
       "  )\n",
       "  (loss_fn): CrossEntropyLoss()\n",
       "  (metrics): MulticlassAccuracy()\n",
       ")"
      ]
     },
     "execution_count": 8,
     "metadata": {},
     "output_type": "execute_result"
    }
   ],
   "source": [
    "instantiate(cfg.module, _recursive_=False)"
   ]
  }
 ],
 "metadata": {
  "kernelspec": {
   "display_name": "ner",
   "language": "python",
   "name": "python3"
  },
  "language_info": {
   "codemirror_mode": {
    "name": "ipython",
    "version": 3
   },
   "file_extension": ".py",
   "mimetype": "text/x-python",
   "name": "python",
   "nbconvert_exporter": "python",
   "pygments_lexer": "ipython3",
   "version": "3.8.20"
  }
 },
 "nbformat": 4,
 "nbformat_minor": 2
}
