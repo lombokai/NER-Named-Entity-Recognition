{
 "cells": [
  {
   "cell_type": "code",
   "execution_count": 2,
   "metadata": {},
   "outputs": [],
   "source": [
    "import sys\n",
    "sys.path.append(\"src\")"
   ]
  },
  {
   "cell_type": "code",
   "execution_count": 7,
   "metadata": {},
   "outputs": [],
   "source": [
    "from ner.model import GruNER\n",
    "from ner.data import ConllDataset\n",
    "from ner.transform import Token"
   ]
  },
  {
   "cell_type": "code",
   "execution_count": 8,
   "metadata": {},
   "outputs": [],
   "source": [
    "train_token = Token()\n",
    "train_ner = Token()"
   ]
  },
  {
   "cell_type": "code",
   "execution_count": 9,
   "metadata": {},
   "outputs": [],
   "source": [
    "data = ConllDataset(\n",
    "    data_path=\"data/conll/train.txt\", \n",
    "    token_manager=train_token, \n",
    "    ner_manager=train_ner,\n",
    "    max_len=100\n",
    ")"
   ]
  },
  {
   "cell_type": "code",
   "execution_count": 10,
   "metadata": {},
   "outputs": [],
   "source": [
    "train_token.build_vocab(data.data)\n",
    "train_ner.build_output_vocab(data.data)"
   ]
  },
  {
   "cell_type": "code",
   "execution_count": 13,
   "metadata": {},
   "outputs": [],
   "source": [
    "inp, out = data[0]"
   ]
  },
  {
   "cell_type": "code",
   "execution_count": 12,
   "metadata": {},
   "outputs": [],
   "source": [
    "model = GruNER(vocab_size=26776)"
   ]
  },
  {
   "cell_type": "code",
   "execution_count": 14,
   "metadata": {},
   "outputs": [
    {
     "data": {
      "text/plain": [
       "tensor([[-0.2347, -0.1280,  0.0503,  ..., -0.0165, -0.1697, -0.0718],\n",
       "        [-0.1107, -0.1170, -0.0276,  ..., -0.0432, -0.2789, -0.1120],\n",
       "        [-0.1584, -0.0302,  0.1396,  ..., -0.0333, -0.2971, -0.1259],\n",
       "        ...,\n",
       "        [-0.2456,  0.0239, -0.0105,  ...,  0.2223, -0.0249, -0.0620],\n",
       "        [-0.2237,  0.0042, -0.0047,  ...,  0.1721,  0.0109, -0.0649],\n",
       "        [-0.1914, -0.0250,  0.0184,  ...,  0.0924,  0.0638, -0.0650]],\n",
       "       grad_fn=<AddmmBackward0>)"
      ]
     },
     "execution_count": 14,
     "metadata": {},
     "output_type": "execute_result"
    }
   ],
   "source": [
    "model(inp)"
   ]
  },
  {
   "cell_type": "code",
   "execution_count": null,
   "metadata": {},
   "outputs": [],
   "source": []
  }
 ],
 "metadata": {
  "kernelspec": {
   "display_name": "ner",
   "language": "python",
   "name": "python3"
  },
  "language_info": {
   "codemirror_mode": {
    "name": "ipython",
    "version": 3
   },
   "file_extension": ".py",
   "mimetype": "text/x-python",
   "name": "python",
   "nbconvert_exporter": "python",
   "pygments_lexer": "ipython3",
   "version": "3.8.20"
  }
 },
 "nbformat": 4,
 "nbformat_minor": 2
}
