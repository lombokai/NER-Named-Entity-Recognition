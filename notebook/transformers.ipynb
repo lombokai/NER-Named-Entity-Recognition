{
 "cells": [
  {
   "cell_type": "code",
   "execution_count": 8,
   "metadata": {},
   "outputs": [],
   "source": [
    "from transformers import pipeline\n",
    "from transformers import AutoTokenizer, AutoModelForTokenClassification"
   ]
  },
  {
   "cell_type": "code",
   "execution_count": 3,
   "metadata": {},
   "outputs": [
    {
     "name": "stderr",
     "output_type": "stream",
     "text": [
      "No model was supplied, defaulted to distilbert/distilbert-base-uncased-finetuned-sst-2-english and revision 714eb0f (https://huggingface.co/distilbert/distilbert-base-uncased-finetuned-sst-2-english).\n",
      "Using a pipeline without specifying a model name and revision in production is not recommended.\n",
      "Device set to use cpu\n"
     ]
    }
   ],
   "source": [
    "classifier = pipeline(\"sentiment-analysis\")"
   ]
  },
  {
   "cell_type": "code",
   "execution_count": 4,
   "metadata": {},
   "outputs": [
    {
     "data": {
      "text/plain": [
       "[{'label': 'POSITIVE', 'score': 0.9998661279678345}]"
      ]
     },
     "execution_count": 4,
     "metadata": {},
     "output_type": "execute_result"
    }
   ],
   "source": [
    "classifier(\"I love her so much\")"
   ]
  },
  {
   "cell_type": "code",
   "execution_count": 10,
   "metadata": {},
   "outputs": [
    {
     "name": "stderr",
     "output_type": "stream",
     "text": [
      "Some weights of the model checkpoint at dslim/bert-base-NER were not used when initializing BertForTokenClassification: ['bert.pooler.dense.bias', 'bert.pooler.dense.weight']\n",
      "- This IS expected if you are initializing BertForTokenClassification from the checkpoint of a model trained on another task or with another architecture (e.g. initializing a BertForSequenceClassification model from a BertForPreTraining model).\n",
      "- This IS NOT expected if you are initializing BertForTokenClassification from the checkpoint of a model that you expect to be exactly identical (initializing a BertForSequenceClassification model from a BertForSequenceClassification model).\n",
      "Device set to use cpu\n"
     ]
    }
   ],
   "source": [
    "tokenizer = AutoTokenizer.from_pretrained(\"dslim/bert-base-NER\")\n",
    "model = AutoModelForTokenClassification.from_pretrained(\"dslim/bert-base-NER\")\n",
    "\n",
    "ner_tagger = pipeline(\"ner\", model=model, tokenizer=tokenizer)"
   ]
  },
  {
   "cell_type": "code",
   "execution_count": 11,
   "metadata": {},
   "outputs": [
    {
     "data": {
      "text/plain": [
       "[{'entity': 'B-ORG',\n",
       "  'score': 0.99936885,\n",
       "  'index': 1,\n",
       "  'word': 'Manchester',\n",
       "  'start': 0,\n",
       "  'end': 10},\n",
       " {'entity': 'I-ORG',\n",
       "  'score': 0.99888736,\n",
       "  'index': 2,\n",
       "  'word': 'United',\n",
       "  'start': 11,\n",
       "  'end': 17},\n",
       " {'entity': 'B-LOC',\n",
       "  'score': 0.9995987,\n",
       "  'index': 9,\n",
       "  'word': 'United',\n",
       "  'start': 47,\n",
       "  'end': 53},\n",
       " {'entity': 'I-LOC',\n",
       "  'score': 0.99911886,\n",
       "  'index': 10,\n",
       "  'word': 'Kingdom',\n",
       "  'start': 54,\n",
       "  'end': 61}]"
      ]
     },
     "execution_count": 11,
     "metadata": {},
     "output_type": "execute_result"
    }
   ],
   "source": [
    "ner_tagger(\"Manchester United is the best football club in United Kingdom\")"
   ]
  },
  {
   "cell_type": "code",
   "execution_count": 12,
   "metadata": {},
   "outputs": [
    {
     "data": {
      "text/plain": [
       "[{'entity': 'B-PER',\n",
       "  'score': 0.99456006,\n",
       "  'index': 1,\n",
       "  'word': 'J',\n",
       "  'start': 0,\n",
       "  'end': 1},\n",
       " {'entity': 'B-PER',\n",
       "  'score': 0.9935968,\n",
       "  'index': 2,\n",
       "  'word': '##hon',\n",
       "  'start': 1,\n",
       "  'end': 4},\n",
       " {'entity': 'B-PER',\n",
       "  'score': 0.8194706,\n",
       "  'index': 3,\n",
       "  'word': '##ny',\n",
       "  'start': 4,\n",
       "  'end': 6},\n",
       " {'entity': 'B-PER',\n",
       "  'score': 0.99868304,\n",
       "  'index': 9,\n",
       "  'word': 'Ari',\n",
       "  'start': 20,\n",
       "  'end': 23},\n",
       " {'entity': 'B-LOC',\n",
       "  'score': 0.99759454,\n",
       "  'index': 17,\n",
       "  'word': 'Mata',\n",
       "  'start': 57,\n",
       "  'end': 61},\n",
       " {'entity': 'I-LOC',\n",
       "  'score': 0.99653816,\n",
       "  'index': 18,\n",
       "  'word': '##ram',\n",
       "  'start': 61,\n",
       "  'end': 64}]"
      ]
     },
     "execution_count": 12,
     "metadata": {},
     "output_type": "execute_result"
    }
   ],
   "source": [
    "ner_tagger(\"Jhonny does'nt like Ari because they was have a fight in Mataram\")"
   ]
  },
  {
   "cell_type": "code",
   "execution_count": null,
   "metadata": {},
   "outputs": [],
   "source": []
  }
 ],
 "metadata": {
  "kernelspec": {
   "display_name": "Python 3",
   "language": "python",
   "name": "python3"
  },
  "language_info": {
   "codemirror_mode": {
    "name": "ipython",
    "version": 3
   },
   "file_extension": ".py",
   "mimetype": "text/x-python",
   "name": "python",
   "nbconvert_exporter": "python",
   "pygments_lexer": "ipython3",
   "version": "3.10.16"
  }
 },
 "nbformat": 4,
 "nbformat_minor": 2
}
